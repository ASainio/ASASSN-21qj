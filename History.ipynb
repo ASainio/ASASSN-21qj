{
 "cells": [
  {
   "cell_type": "code",
   "execution_count": 82,
   "id": "dac33b99-2284-47fc-967f-7668ddf10c13",
   "metadata": {},
   "outputs": [],
   "source": [
    "import matplotlib as mpl\n",
    "import matplotlib.pyplot as plt\n",
    "import numpy as np\n",
    "from matplotlib.patches import Rectangle"
   ]
  },
  {
   "cell_type": "code",
   "execution_count": 95,
   "id": "c059e3a9-afbd-4229-90a3-4932421a2f1f",
   "metadata": {},
   "outputs": [],
   "source": [
    "neowise = pd.read_csv ('Wise.Csv')\n",
    "asassn = pd.read_csv ('light_curve.csv')\n",
    "allwise = pd.read_csv ('allwisemultiepoch.csv')"
   ]
  },
  {
   "cell_type": "code",
   "execution_count": 85,
   "id": "8dd12911-c0c6-4965-97e8-00aadbdd9468",
   "metadata": {},
   "outputs": [],
   "source": [
    "#filtering neowise (post cryo) data\n",
    "neowise_filtered = neowise[(neowise['w2rchi2'] < 20) & (neowise['cc_flags'] == '0000') & (neowise['w2snr'] >= 25)]"
   ]
  },
  {
   "cell_type": "code",
   "execution_count": 102,
   "id": "284bda5d-b870-439b-85ef-aed009316298",
   "metadata": {},
   "outputs": [],
   "source": [
    "#naming neowise data and mags\n",
    "w1 = neowise_filtered['w1mpro']\n",
    "w2 = neowise_filtered['w2mpro']\n",
    "time = neowise_filtered['mjd']"
   ]
  },
  {
   "cell_type": "code",
   "execution_count": 103,
   "id": "3a99e14d-7763-480c-9379-c9540b817291",
   "metadata": {},
   "outputs": [],
   "source": [
    "asassn_g = asassn[(asassn['Filter']=='g') * (asassn['flux_err'] < 0.5)]\n",
    "asassn_v = asassn[(asassn['Filter']=='V') * (asassn['flux_err'] < 0.5)]"
   ]
  },
  {
   "cell_type": "code",
   "execution_count": 111,
   "id": "84b43210-a98a-457a-9205-f65a37c233e3",
   "metadata": {},
   "outputs": [],
   "source": [
    "#asassn data and mags\n",
    "gmag = asassn_g['mag']\n",
    "vmag = asassn_v['mag']\n",
    "time2 =  asassn_g['HJD']\n",
    "time3 = asassn_v['HJD']"
   ]
  },
  {
   "cell_type": "code",
   "execution_count": 144,
   "id": "4f3fad87-3a6f-48a0-a4e8-63cd65245917",
   "metadata": {},
   "outputs": [],
   "source": [
    "#allwise (pre-cryo)\n",
    "all_w1 = allwise['w1mpro_ep']\n",
    "all_w2 = allwise['w2mpro_ep']\n",
    "all_w3 = allwise['w3mpro_ep']\n",
    "all_w4 = allwise['w4mpro_ep']\n",
    "\n",
    "all_time = allwise['mjd']\n"
   ]
  },
  {
   "cell_type": "code",
   "execution_count": 148,
   "id": "709baffa-28b2-4777-8855-3daf829fb9f3",
   "metadata": {},
   "outputs": [
    {
     "data": {
      "text/plain": [
       "(16.2, 7.0)"
      ]
     },
     "execution_count": 148,
     "metadata": {},
     "output_type": "execute_result"
    },
    {
     "data": {
      "image/png": "[encoded data removed]",
      "text/plain": [
       "<Figure size 864x360 with 1 Axes>"
      ]
     },
     "metadata": {
      "needs_background": "light"
     },
     "output_type": "display_data"
    }
   ],
   "source": [
    "\n",
    "fig, ax = plt.subplots(1,1,figsize=(12,5))  # Create a figure containing a single axes.\n",
    "\n",
    "ax.set_title('ASASSN-21qj')\n",
    "ax.set_xlabel('Epoch [MJD]')\n",
    "ax.set_ylabel('magnitude')\n",
    "\n",
    "ax.plot (time, w2, linewidth = 0, marker = '.',color = 'red', alpha = 0.5, label= \"NeoWISE W2\")  \n",
    "ax.plot (time, w1, linewidth = 0, marker = '.',color = 'orange', alpha = 0.5, label = \"NeoWISE W1\")  \n",
    "\n",
    "ax.plot (all_time, all_w4, linewidth = 0, marker = 'x',color = 'blue', alpha = 0.5, label =\"AllWISE W4\")\n",
    "ax.plot (all_time, all_w3, linewidth = 0, marker = '>',color = 'k', alpha = 0.5, label =\"AllWISE W3\")\n",
    "\n",
    "ax.plot (all_time, all_w2, linewidth = 0, marker = 'x',color = 'red', alpha = 0.5, label =\"AllWISE W2\")\n",
    "ax.plot (all_time, all_w1, linewidth = 0, marker = 'x',color = 'orange', alpha = 0.5, label =\"AllWISE W1\")\n",
    "\n",
    "ax.plot (time2, gmag, linewidth = 0, marker = '.',color = 'deepskyblue', alpha = 0.5, label =\"ASAS-SN g\")  \n",
    "ax.plot (time3, vmag, linewidth = 0, marker = '.',color = 'purple', alpha = 0.5, label =\"ASAS-SN V\")  \n",
    "\n",
    "ax.axhline(11.842, c='red', linestyle='dashed', lw =1,zorder=3,label= \"CatWISE mean w1 11.842\")\n",
    "ax.axhline(11.817, c='orange', linestyle='dashed', lw =1,zorder=3,label= \"CatWISE mean w2\")\n",
    "\n",
    "ax.axhline(13.793, c='k', linestyle='dashed', lw =1,zorder=3,label= \"ASAS-SN mean g\")\n",
    "#ax.axhline(13.793 - 0.016279621513866173, linestyle='dashed', c='red',lw=1, zorder=3)\n",
    "#ax.axhline(13.793 + 0.016279621513866173, linestyle='dashed', c='red',lw=1, zorder=3)\n",
    "ax.set_xlim(55000,59470) \n",
    "ax.set_ylim(16.2,7,3)\n",
    "#ax.legend()\n",
    "#plt.savefig(xx.png)"
   ]
  },
  {
   "cell_type": "code",
   "execution_count": null,
   "id": "5e25ca17-645b-4dcb-bc5c-33b30138e046",
   "metadata": {},
   "outputs": [],
   "source": []
  }
 ],
 "metadata": {
  "kernelspec": {
   "display_name": "Python 3 (ipykernel)",
   "language": "python",
   "name": "python3"
  },
  "language_info": {
   "codemirror_mode": {
    "name": "ipython",
    "version": 3
   },
   "file_extension": ".py",
   "mimetype": "text/x-python",
   "name": "python",
   "nbconvert_exporter": "python",
   "pygments_lexer": "ipython3",
   "version": "3.9.7"
  }
 },
 "nbformat": 4,
 "nbformat_minor": 5
}
